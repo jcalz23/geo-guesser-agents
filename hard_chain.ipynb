{
 "cells": [
  {
   "cell_type": "markdown",
   "metadata": {},
   "source": [
    "## Setup"
   ]
  },
  {
   "cell_type": "code",
   "execution_count": 1,
   "metadata": {},
   "outputs": [],
   "source": [
    "import os\n",
    "import json\n",
    "import getpass\n",
    "import googlemaps\n",
    "\n",
    "from utils.helpers import call_openai, prep_images, get_top_n_results\n",
    "from utils.eval import calculate_distance\n",
    "from utils.constants import *\n",
    "\n",
    "# OpenAI API Key\n",
    "os.environ[\"OPENAI_API_KEY\"] = getpass.getpass(\"Enter your OpenAI API key: \")\n",
    "os.environ[\"GOOGLE_API_KEY\"] = getpass.getpass(\"Enter your Google API key: \")\n",
    "\n",
    "# Initialize the Google Maps client with your API key\n",
    "gmaps = googlemaps.Client(key=os.environ[\"GOOGLE_API_KEY\"])\n",
    "\n",
    "\n",
    "# Path to your image\n",
    "id = \"106\"\n",
    "image_inputs = prep_images(id)\n",
    "results = {}\n",
    "\n",
    "# Define model\n",
    "model = \"gpt-4o\"\n",
    "\n",
    "# Load target location\n",
    "with open(f'./data/master.json', 'r') as f:\n",
    "    target_locations = json.load(f)\n",
    "target = target_locations[id]"
   ]
  },
  {
   "cell_type": "markdown",
   "metadata": {},
   "source": [
    "## System Message"
   ]
  },
  {
   "cell_type": "code",
   "execution_count": 3,
   "metadata": {},
   "outputs": [],
   "source": [
    "SYS_MESSAGE_PROMPT = \"\"\"You are an expert at the game GeoGuessr. \\\n",
    "    You are trying to determine the location of an image in world coordinates.\"\"\"\n",
    "SYS_MESSAGE = {\"role\": \"system\", \"content\": SYS_MESSAGE_PROMPT}\n",
    "JSON_PROMPT = \"\"\"Only return a valid json string (RCF8259). Do provide any other commentary. \\\n",
    "    Do not wrap the JSON in markdown such as ```json. Only use the data from the provided content.\"\"\"\n"
   ]
  },
  {
   "cell_type": "markdown",
   "metadata": {},
   "source": [
    "## Tool 1: Describe image OCR"
   ]
  },
  {
   "cell_type": "code",
   "execution_count": 8,
   "metadata": {},
   "outputs": [],
   "source": [
    "# Define prompt\n",
    "DESCRIBE_TEXT_PROMPT = \"\"\"USER: Your task is to describe this image in detail. Here are some instructions:\n",
    "- Focus entirely on the text found on the image that might provide location clues.\n",
    "- Prioritize street signs, stores, landmarks, and other specific features that provide location clues.\n",
    "- Pay attention to any public transportation, which may provide great local information.\n",
    "- Ignore advertisements unless they contain local information.\n",
    "- Ignore the text related to the Geoguesser game.\n",
    "- Sort the items based on how useful the information might be for someone trying to determine where in the world the image was taken.\n",
    "- Return a json following the below examples. {json_prompt}\n",
    "  - output={{\"item1_name\": \"item1_description\", \"item2_name\": \"item2_description\", ...}}\n",
    "  - output={{\"restaurant\": \"There is a restaurant displaying 'Stevens Pizza of Oakmont\", \"street_sign\": \"One street sign says Orange Ave\"}}\n",
    "\n",
    "AGENT: output=\"\"\"\n",
    "\n",
    "# Describe image\n",
    "prompt_inputs = {\"json_prompt\": JSON_PROMPT}\n",
    "text_results = call_openai(model, SYS_MESSAGE, DESCRIBE_TEXT_PROMPT, prompt_inputs, image_inputs)\n"
   ]
  },
  {
   "cell_type": "markdown",
   "metadata": {},
   "source": [
    "## Tool 2: Describe image scenery"
   ]
  },
  {
   "cell_type": "code",
   "execution_count": 9,
   "metadata": {},
   "outputs": [],
   "source": [
    "# Define prompt\n",
    "DESCRIBE_SCENE_PROMPT = \"\"\"USER: Your task is to describe this image in detail. Here are some instructions:\n",
    "- Focus entirely on the scenery the image, whether architecture, nature, or people.\n",
    "- Ignore the text related to the Geoguesser game.\n",
    "- Sort the items based on how useful the information might be for someone trying to determine where in the world the image was taken.\n",
    "- Return a json following the below examples. {json_prompt}\n",
    "  - output={{\"item1_name\": \"item1_description\", \"item2_name\": \"item2_description\", ...}}\n",
    "  - output={{\"mountain\": \"There is a large mountain range in the background of the image with white snowcaps\", \"trees\": \"There are Sequioa trees on the mountain\", \"architecture\": \"There is a Victorian building in the image\", \"people\": \"There are people in the image wearing American clothing\"}}\n",
    "\n",
    "AGENT: output=\"\"\"\n",
    "\n",
    "# Describe image scenery\n",
    "prompt_inputs = {\"json_prompt\": JSON_PROMPT}\n",
    "scene_results = call_openai(model, SYS_MESSAGE, DESCRIBE_SCENE_PROMPT, prompt_inputs, image_inputs)"
   ]
  },
  {
   "cell_type": "markdown",
   "metadata": {},
   "source": [
    "## Tool 3: Interpret details"
   ]
  },
  {
   "cell_type": "code",
   "execution_count": 13,
   "metadata": {},
   "outputs": [],
   "source": [
    "# Define prompt\n",
    "CANDIDATES_PROMPT = \"\"\"USER: A previous agent has extracted features from a set of four images facing North, South, East, and West.\n",
    "Your task is to interpret these features and attempt to guess which city the image is from. Here is some helpful information and instruction:\n",
    "*Information*\n",
    "- text_results: {text_results}\n",
    "- scene_results: {scene_results}\n",
    "\n",
    "*Instructions*\n",
    "- Provide an educated guess on which city the image is from.\n",
    "- Return your top few guesses and their confidence levels from 0-100.\n",
    "- Return a json following the below examples. {json_prompt}\n",
    "  - output={{\"Tokyo\": {{\"confidence\": 0.7, \"reasoning\": \"The image features a singular large mountain in the background, which could be Mt. Fuji but it is hard to determine with confidence.\"}}}}\n",
    "\n",
    "AGENT: output=\"\"\"\n",
    "\n",
    "# Come up with potential city candidates\n",
    "prompt_inputs = {\"json_prompt\": JSON_PROMPT, \"text_results\": text_results, \"scene_results\": scene_results}\n",
    "candidates = call_openai(model, SYS_MESSAGE, CANDIDATES_PROMPT, prompt_inputs, image_inputs)"
   ]
  },
  {
   "cell_type": "markdown",
   "metadata": {},
   "source": [
    "## Tool 4: Google Search Queries"
   ]
  },
  {
   "cell_type": "code",
   "execution_count": 14,
   "metadata": {},
   "outputs": [],
   "source": [
    "# Define prompt\n",
    "SEARCH_PROMPT = \"\"\"USER: A previous agent has extracted features from an image. \n",
    "Your task is to come up with a set of Google searches based on the features extraction from the image. Here is some helpful information and instruction:\n",
    "*Information*\n",
    "- text_results: {text_results}\n",
    "- scene_results: {scene_results}\n",
    "- city_candidates: {candidates}\n",
    "\n",
    "*Instructions*\n",
    "- Return Google search queries that are likely to identify a specific address.\n",
    "- Ensure that search queries are specific and not too vague.\n",
    "- Focus primarily on landmarks and locations with names. Avoid queries that describe the scenery or generic objects like a FedEx truck.\n",
    "- Return a json following the below examples. {json_prompt}\n",
    "  - output={{\"search1\": \"WalMart Steele Street\", \"search2\": \"F37 bus route in Germany\", ...}}\n",
    "\n",
    "AGENT: output=\"\"\"\n",
    "\n",
    "# Come up with Google searches\n",
    "prompt_inputs = {\"json_prompt\": JSON_PROMPT, \"text_results\": text_results, \"scene_results\": scene_results, \"candidates\": candidates}\n",
    "queries = call_openai(model, SYS_MESSAGE, SEARCH_PROMPT, prompt_inputs, image_inputs)"
   ]
  },
  {
   "cell_type": "markdown",
   "metadata": {},
   "source": [
    "## Tool 5: Run Google Queries"
   ]
  },
  {
   "cell_type": "code",
   "execution_count": 15,
   "metadata": {},
   "outputs": [
    {
     "name": "stderr",
     "output_type": "stream",
     "text": [
      "/opt/homebrew/Caskroom/miniconda/base/envs/geo/lib/python3.12/site-packages/langchain_core/_api/deprecation.py:119: LangChainDeprecationWarning: The class `GoogleSearchAPIWrapper` was deprecated in LangChain 0.0.33 and will be removed in 0.3.0. An updated version of the class exists in the langchain-google-community package and should be used instead. To use it run `pip install -U langchain-google-community` and import as `from langchain_google_community import GoogleSearchAPIWrapper`.\n",
      "  warn_deprecated(\n"
     ]
    }
   ],
   "source": [
    "description = \"Find the location associated with this landmark\"\n",
    "search_results = {}\n",
    "for key, query in queries.items():\n",
    "    result = get_top_n_results(description, query)\n",
    "    search_results[key] = result"
   ]
  },
  {
   "cell_type": "markdown",
   "metadata": {},
   "source": [
    "## Tool X: Guess Location"
   ]
  },
  {
   "cell_type": "code",
   "execution_count": 16,
   "metadata": {},
   "outputs": [],
   "source": [
    "# Define prompt\n",
    "GEO_GUESSER_PROMPT = \"\"\"USER: A previous agent has extracted features from an image. \n",
    "Your task is to determine the coordinates from which the picture was taken. It can be anywhere in the world. Here is some helpful information and instruction:\n",
    "*Information*\n",
    "- text_results: {text_results}\n",
    "- scene_results: {scene_results}\n",
    "- city_candidates: {candidates}\n",
    "- search_results: {search_results}\n",
    "\n",
    "*Instructions*\n",
    "Return json with the city and coordinates following the below example. {json_prompt}\n",
    "output={{\"city\": \"Orland Park, IL, 60467, USA\", \"latitude\": \"42.0099\", \"longitude\": \"-87.62317\"}}\n",
    "\n",
    "AGENT: output=\"\"\"\n",
    "\n",
    "# Predict location\n",
    "prompt_inputs = {\"json_prompt\": JSON_PROMPT, \"text_results\": text_results, \"scene_results\": scene_results, \"candidates\": candidates, \"search_results\": search_results}\n",
    "pred = call_openai(model, SYS_MESSAGE, GEO_GUESSER_PROMPT, prompt_inputs, image_inputs)"
   ]
  },
  {
   "cell_type": "markdown",
   "metadata": {},
   "source": [
    "## Eval"
   ]
  },
  {
   "cell_type": "code",
   "execution_count": 17,
   "metadata": {},
   "outputs": [
    {
     "name": "stdout",
     "output_type": "stream",
     "text": [
      "Distance: 267.8 km\n"
     ]
    }
   ],
   "source": [
    "distance = calculate_distance(pred, target)\n",
    "print(\"Distance:\", distance, \"km\")"
   ]
  },
  {
   "cell_type": "code",
   "execution_count": null,
   "metadata": {},
   "outputs": [],
   "source": []
  },
  {
   "cell_type": "code",
   "execution_count": null,
   "metadata": {},
   "outputs": [],
   "source": []
  },
  {
   "cell_type": "code",
   "execution_count": null,
   "metadata": {},
   "outputs": [],
   "source": []
  },
  {
   "cell_type": "markdown",
   "metadata": {},
   "source": [
    "## Location SEarch"
   ]
  },
  {
   "cell_type": "markdown",
   "metadata": {},
   "source": [
    "## Try MapBox\n",
    "- No location bias, but missing Woods Mart"
   ]
  },
  {
   "cell_type": "code",
   "execution_count": null,
   "metadata": {},
   "outputs": [],
   "source": [
    "import requests\n",
    "\n",
    "# Mapbox API key and endpoint\n",
    "mapbox_access_token = \"sk.eyJ1IjoiamNhbHphcmV0dGEiLCJhIjoiY2x3cGI5eGsxMWlqazJrbWphcmNkZm93ZSJ9._rNUDM5LKJ98Dpqm2VhTRg\"\n",
    "mapbox_search_url = \"https://api.mapbox.com/geocoding/v5/mapbox.places\"\n",
    "\n",
    "# Search query\n",
    "query = \"The Shakespeare pub, Phoenix St\"\n",
    "\n",
    "# Parameters for the request\n",
    "params = {\n",
    "    \"access_token\": mapbox_access_token,\n",
    "    \"autocomplete\": True,\n",
    "    \"types\": \"poi\",\n",
    "    \"limit\": 20,\n",
    "    \"query\": query\n",
    "}\n",
    "\n",
    "# Construct the full URL for the request\n",
    "full_url = f\"{mapbox_search_url}/{query}.json\"\n",
    "\n",
    "# Make the request to Mapbox API\n",
    "response = requests.get(full_url, params=params)\n",
    "\n",
    "# Check if the request was successful\n",
    "if response.status_code == 200:\n",
    "    search_results = response.json()\n",
    "    print(\"Mapbox search results for 'Woods Mart':\", search_results)\n",
    "else:\n",
    "    print(\"Failed to retrieve Mapbox search results, status code:\", response.status_code)\n",
    "\n",
    "\n"
   ]
  },
  {
   "cell_type": "markdown",
   "metadata": {},
   "source": [
    "## Try HERE API"
   ]
  },
  {
   "cell_type": "code",
   "execution_count": null,
   "metadata": {},
   "outputs": [],
   "source": [
    "import requests\n",
    "\n",
    "# HERE API key and endpoint\n",
    "here_api_key = \"A_z2G4fxogaShflHgE7Ki_znR590bnfQEG9HI8x6lM4\"\n",
    "here_search_url = \"https://geocode.search.hereapi.com/v1/geocode\"\n",
    "\n",
    "# Search query\n",
    "query = \"The Shakespeare pub, Phoenix St\"\n",
    "\n",
    "# Parameters for the request\n",
    "params = {\n",
    "    \"apikey\": here_api_key,\n",
    "    \"q\": query\n",
    "}\n",
    "\n",
    "# Make the request to HERE API\n",
    "response = requests.get(here_search_url, params=params)\n",
    "\n",
    "# Check if the request was successful\n",
    "if response.status_code == 200:\n",
    "    search_results = response.json()\n",
    "    print(\"HERE search results for 'Woods Mart':\", search_results)\n",
    "else:\n",
    "    print(\"Failed to retrieve HERE search results, status code:\", response.status_code)\n"
   ]
  },
  {
   "cell_type": "markdown",
   "metadata": {},
   "source": [
    "## Tool 5: Google Maps API"
   ]
  },
  {
   "cell_type": "code",
   "execution_count": null,
   "metadata": {},
   "outputs": [],
   "source": [
    "search_result = gmaps.places(\n",
    "    query=\"The Shakespeare pub, Phoenix St, UK\", #<----------------- TEMP CHEATING\n",
    "    location=(0,0),\n",
    "    radius=20000000\n",
    "    )\n",
    "search_result"
   ]
  },
  {
   "cell_type": "code",
   "execution_count": null,
   "metadata": {},
   "outputs": [],
   "source": [
    "search_results = {}\n",
    "for i, query in candidates.items():\n",
    "    # Search for 'Woods Mart' using Google Maps API\n",
    "    search_result = gmaps.places_autocomplete_query(\n",
    "        input_text=\"The Shakespeare pub, Phoenix St, UK\", #<----------------- TEMP CHEATING\n",
    "        location=(0,0),\n",
    "        radius=20000000\n",
    "        )\n",
    "\n",
    "    # Extract the top results if available\n",
    "    top_results = []\n",
    "    n = 10\n",
    "    for i, result in enumerate(search_result):\n",
    "        top_results.append(result[\"description\"])\n",
    "        if i > n:\n",
    "            break\n",
    "\n",
    "    # Track all query results\n",
    "    search_results[query] = top_results\n",
    "\n",
    "print(search_results)"
   ]
  },
  {
   "cell_type": "markdown",
   "metadata": {},
   "source": [
    "## Tool 6: GeoGuesser"
   ]
  },
  {
   "cell_type": "code",
   "execution_count": null,
   "metadata": {},
   "outputs": [],
   "source": [
    "# Define prompt\n",
    "prompt_template = \"\"\"USER: A previous agent has extracted features from an image. Your task is to come up with a set of Google Maps searches based on key landmarks and locations found in the image. Here is some helpful information and instruction:\n",
    "*Information*\n",
    "- OCR: Here are the following text items found in the image: {img_text}\n",
    "- Scenery: Here are the following scenery items found in the image: {img_scenery}\n",
    "- Google Maps: \n",
    "\n",
    "*Instructions*\n",
    "- Return a set of Google Maps searches based on the text and scenery items found in the image.\n",
    "- Return a json with the following format:\n",
    "  - output={{\"search1\": \"search1_query\", \"search2\": \"search2_query\", ...}}\n",
    "\n",
    "AGENT: output=\"\"\"\n",
    "prompt = prompt_template.format(img_text=img_text, img_scenery=img_scenery)\n",
    "\n",
    "# Define payload\n",
    "payload = {\n",
    "  \"model\": \"gpt-4o\",\n",
    "  \"messages\": [\n",
    "    sys_message,\n",
    "    {\n",
    "      \"role\": \"user\",\n",
    "      \"content\": [\n",
    "        {\n",
    "          \"type\": \"text\",\n",
    "          \"text\": prompt\n",
    "        }\n",
    "      ]\n",
    "    }\n",
    "  ],\n",
    "  \"max_tokens\": 300\n",
    "}\n",
    "\n",
    "response = requests.post(\"https://api.openai.com/v1/chat/completions\", headers=headers, json=payload)\n",
    "candidates = response.json()['choices'][0]['message']['content']\n",
    "print(candidates)"
   ]
  },
  {
   "cell_type": "code",
   "execution_count": null,
   "metadata": {},
   "outputs": [],
   "source": []
  }
 ],
 "metadata": {
  "kernelspec": {
   "display_name": "geo",
   "language": "python",
   "name": "python3"
  },
  "language_info": {
   "codemirror_mode": {
    "name": "ipython",
    "version": 3
   },
   "file_extension": ".py",
   "mimetype": "text/x-python",
   "name": "python",
   "nbconvert_exporter": "python",
   "pygments_lexer": "ipython3",
   "version": "3.12.0"
  }
 },
 "nbformat": 4,
 "nbformat_minor": 2
}

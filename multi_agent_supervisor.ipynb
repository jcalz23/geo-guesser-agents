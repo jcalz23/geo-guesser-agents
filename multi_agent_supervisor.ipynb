{
 "cells": [
  {
   "cell_type": "code",
   "execution_count": 22,
   "metadata": {},
   "outputs": [],
   "source": [
    "# Imports\n",
    "import os\n",
    "import getpass\n",
    "import base64\n",
    "from typing import TypedDict, Annotated, Sequence\n",
    "\n",
    "import operator\n",
    "from typing import Annotated, Any, Dict, List, Optional, Sequence, TypedDict\n",
    "import functools\n",
    "\n",
    "from langchain_core.prompts import ChatPromptTemplate, MessagesPlaceholder\n",
    "from langgraph.graph import StateGraph, END\n",
    "from langgraph.prebuilt import ToolNode\n",
    "from langgraph.graph import StateGraph, END\n",
    "from langchain.agents import AgentExecutor, create_openai_tools_agent\n",
    "from langchain_core.messages import BaseMessage, HumanMessage\n",
    "from langchain_openai import ChatOpenAI\n",
    "from langchain_community.tools.tavily_search import TavilySearchResults\n",
    "from langchain_community.tools import GooglePlacesTool\n",
    "from langchain_core.output_parsers.openai_functions import JsonOutputFunctionsParser\n",
    "\n",
    "# Set API Keys (temp)\n",
    "os.environ['LANGCHAIN_TRACING_V2'] = 'true'\n",
    "os.environ['LANGCHAIN_API_KEY'] = getpass.getpass(\"Enter your Langchain API key: \")\n",
    "os.environ['TAVILY_API_KEY'] = getpass.getpass(\"Enter your Tavily API key: \")\n",
    "os.environ['OPENAI_API_KEY'] = getpass.getpass(\"Enter your OpenAI API key: \")\n",
    "os.environ[\"GPLACES_API_KEY\"] = getpass.getpass(\"Enter your Google Places API key: \")\n"
   ]
  },
  {
   "cell_type": "markdown",
   "metadata": {},
   "source": [
    "## Define prompts"
   ]
  },
  {
   "cell_type": "code",
   "execution_count": 15,
   "metadata": {},
   "outputs": [],
   "source": [
    "supervisor_sys_prompt = \"\"\"You are a supervisor tasked with managing a conversation between the following workers:  {members}. Given the following user request,\n",
    "respond with the worker to act next. Each worker will perform a task and respond with their results and status. When finished, respond with FINISH.\"\"\"\n",
    "supervisor_user_prompt = \"\"\"Given the conversation above, who should act next? Or should we FINISH? Select one of: {options}\"\"\"\n",
    "\n",
    "json_prompt = \"Only return a valid json string (RCF8259). Do provide any other commentary. Do not wrap the JSON in markdown such as ```json. Only use the data from the provided content.\"\n",
    "\n",
    "prompt_template = \"\"\"USER: Given a set of streetview images from a vehicle, your task is to determine the\n",
    "coordinates from which the picture was taken. It can be anywhere in the world.\n",
    "\n",
    "Return json with the city and coordinates following the below example. {json_prompt}\n",
    "output={{\"city\": \"Orland Park, IL, 60467, USA\", \"latitude\": \"42.0099\", \"longitude\": \"-87.62317\"}}\n",
    "\n",
    "AGENT: output=\"\"\"\n",
    "\n",
    "text_prompt = prompt_template.format(json_prompt=json_prompt)"
   ]
  },
  {
   "cell_type": "markdown",
   "metadata": {},
   "source": [
    "## Helper Utilities"
   ]
  },
  {
   "cell_type": "code",
   "execution_count": 16,
   "metadata": {},
   "outputs": [],
   "source": [
    "def create_agent(llm: ChatOpenAI, tools: list, system_prompt: str):\n",
    "    # Each worker node will be given a name and some tools.\n",
    "    prompt = ChatPromptTemplate.from_messages(\n",
    "        [\n",
    "            (\"system\", system_prompt),\n",
    "            MessagesPlaceholder(variable_name=\"messages\"),\n",
    "            MessagesPlaceholder(variable_name=\"agent_scratchpad\"),\n",
    "        ]\n",
    "    )\n",
    "    agent = create_openai_tools_agent(llm, tools, prompt)\n",
    "    executor = AgentExecutor(agent=agent, tools=tools)\n",
    "    return executor\n",
    "\n",
    "def agent_node(state, agent, name):\n",
    "    result = agent.invoke(state)\n",
    "    return {\"messages\": [HumanMessage(content=result[\"output\"], name=name)]}"
   ]
  },
  {
   "cell_type": "markdown",
   "metadata": {},
   "source": [
    "## Define Tools"
   ]
  },
  {
   "cell_type": "code",
   "execution_count": 17,
   "metadata": {},
   "outputs": [],
   "source": [
    "# Search tool\n",
    "search_tool = TavilySearchResults(max_results=3)\n",
    "places_tool = GooglePlacesTool()\n",
    "tools = [search_tool, places_tool]"
   ]
  },
  {
   "cell_type": "markdown",
   "metadata": {},
   "source": [
    "## Create Supervisor"
   ]
  },
  {
   "cell_type": "code",
   "execution_count": 18,
   "metadata": {},
   "outputs": [],
   "source": [
    "members = [\"Researcher\", \"Map_Searcher\"] # \"Image_Describer\", \"Geo_Guesser\"\n",
    "\n",
    "# Our team supervisor is an LLM node. It just picks the next agent to process\n",
    "# and decides when the work is completed\n",
    "options = [\"FINISH\"] + members\n",
    "# Using openai function calling can make output parsing easier for us\n",
    "function_def = {\n",
    "    \"name\": \"route\",\n",
    "    \"description\": \"Select the next role.\",\n",
    "    \"parameters\": {\n",
    "        \"title\": \"routeSchema\",\n",
    "        \"type\": \"object\",\n",
    "        \"properties\": {\n",
    "            \"next\": {\n",
    "                \"title\": \"Next\",\n",
    "                \"anyOf\": [\n",
    "                    {\"enum\": options},\n",
    "                ],\n",
    "            }\n",
    "        },\n",
    "        \"required\": [\"next\"],\n",
    "    },\n",
    "}\n",
    "prompt = ChatPromptTemplate.from_messages(\n",
    "    [\n",
    "        (\"system\", supervisor_sys_prompt),\n",
    "        MessagesPlaceholder(variable_name=\"messages\"),\n",
    "        supervisor_user_prompt,\n",
    "    ]\n",
    ").partial(options=str(options), members=\", \".join(members))\n",
    "\n",
    "llm = ChatOpenAI(model=\"gpt-4o\")\n",
    "\n",
    "supervisor_chain = (\n",
    "    prompt\n",
    "    | llm.bind_functions(functions=[function_def], function_call=\"route\")\n",
    "    | JsonOutputFunctionsParser()\n",
    ")"
   ]
  },
  {
   "cell_type": "markdown",
   "metadata": {},
   "source": [
    "## Create Agents"
   ]
  },
  {
   "cell_type": "code",
   "execution_count": 19,
   "metadata": {},
   "outputs": [],
   "source": [
    "#members = [\"Image_Describer\", \"Researcher\", \"Map_Searcher\", \"Geo_Guesser\"]\n",
    "\n",
    "# # Image Describer\n",
    "# image_describer_agent = create_agent(llm, [], \"You analyze streetview images to extract key information to help identify the location.\")\n",
    "# image_describer_node = functools.partial(agent_node, agent=image_describer_agent, name=\"Image_Describer\")\n",
    "\n",
    "# Researcher\n",
    "research_agent = create_agent(llm, [search_tool], \"You are a web researcher.\")\n",
    "research_node = functools.partial(agent_node, agent=research_agent, name=\"Researcher\")\n",
    "\n",
    "# Map_Searcher\n",
    "map_searcher_agent = create_agent(llm, [places_tool], \"You are a map searcher.\")\n",
    "map_searcher_node = functools.partial(agent_node, agent=map_searcher_agent, name=\"Map_Searcher\")\n",
    "\n",
    "# # Geo_Guesser\n",
    "# geo_guesser_agent = create_agent(llm, [], \"You are a geo guesser.\")\n",
    "# geo_guesser_node = functools.partial(agent_node, agent=geo_guesser_agent, name=\"Geo_Guesser\")"
   ]
  },
  {
   "cell_type": "markdown",
   "metadata": {},
   "source": [
    "## Create Graph"
   ]
  },
  {
   "cell_type": "code",
   "execution_count": 20,
   "metadata": {},
   "outputs": [],
   "source": [
    "# The agent state is the input to each node in the graph\n",
    "class AgentState(TypedDict):\n",
    "    # The annotation tells the graph that new messages will always\n",
    "    # be added to the current states\n",
    "    messages: Annotated[Sequence[BaseMessage], operator.add]\n",
    "    # The 'next' field indicates where to route to next\n",
    "    next: str\n",
    "\n",
    "# Create graph\n",
    "workflow = StateGraph(AgentState)\n",
    "#workflow.add_node(\"Image_Describer\", image_describer_node)\n",
    "workflow.add_node(\"Researcher\", research_node)\n",
    "workflow.add_node(\"Map_Searcher\", map_searcher_node)\n",
    "#workflow.add_node(\"Geo_Guesser\", geo_guesser_node)\n",
    "workflow.add_node(\"supervisor\", supervisor_chain)\n",
    "\n",
    "# Make each worker report back to supervisor when done\n",
    "for member in members:\n",
    "    workflow.add_edge(member, \"supervisor\")\n",
    "\n",
    "# The supervisor populates the \"next\" field in the graph state\n",
    "conditional_map = {k: k for k in members}\n",
    "conditional_map[\"FINISH\"] = END\n",
    "workflow.add_conditional_edges(\"supervisor\", lambda x: x[\"next\"], conditional_map)\n",
    "\n",
    "# Add entrypoint and compile\n",
    "workflow.set_entry_point(\"supervisor\")\n",
    "graph = workflow.compile()"
   ]
  },
  {
   "cell_type": "markdown",
   "metadata": {},
   "source": [
    "## Run"
   ]
  },
  {
   "cell_type": "code",
   "execution_count": 21,
   "metadata": {},
   "outputs": [
    {
     "name": "stdout",
     "output_type": "stream",
     "text": [
      "{'supervisor': {'next': 'Researcher'}}\n",
      "----\n",
      "{'Researcher': {'messages': [HumanMessage(content='{\"city\": \"Bourges, France\", \"latitude\": \"47.0842\", \"longitude\": \"2.3966\"}', name='Researcher')]}}\n",
      "----\n",
      "{'supervisor': {'next': 'FINISH'}}\n",
      "----\n"
     ]
    }
   ],
   "source": [
    "# Function to encode the image\n",
    "def encode_image(image_path):\n",
    "  with open(image_path, \"rb\") as image_file:\n",
    "    return base64.b64encode(image_file.read()).decode('utf-8')\n",
    "\n",
    "# Path to your image\n",
    "id = \"103\"\n",
    "image_dir = f'./data/{id}/'\n",
    "directions = [\"north\", \"south\", \"east\", \"west\"]\n",
    "image_inputs = []\n",
    "for direction in directions:\n",
    "    base64_img = encode_image(f\"{image_dir}{direction}.png\")\n",
    "    image_input = {\"type\": \"image_url\", \"image_url\": {\"url\": f\"data:image/jpeg;base64,{base64_img}\"}}\n",
    "    image_inputs.append(image_input)\n",
    "\n",
    "# Define input\n",
    "text_input = [{\"type\": \"text\", \"text\": text_prompt}]\n",
    "inputs = {\"messages\": [HumanMessage(content=text_input + image_inputs)]}\n",
    "\n",
    "# Run graph\n",
    "for s in graph.stream(inputs):\n",
    "    if \"__end__\" not in s:\n",
    "        print(s)\n",
    "        print(\"----\")"
   ]
  }
 ],
 "metadata": {
  "language_info": {
   "name": "python"
  }
 },
 "nbformat": 4,
 "nbformat_minor": 2
}

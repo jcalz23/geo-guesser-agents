{
 "cells": [
  {
   "cell_type": "code",
   "execution_count": null,
   "metadata": {},
   "outputs": [],
   "source": [
    "# Imports\n",
    "import os\n",
    "import json\n",
    "import numpy as np\n",
    "import pandas as pd\n",
    "import matplotlib.pyplot as plt\n",
    "from utils.eval import geoguessr_score\n",
    "from constants import *\n",
    "\n",
    "# Get rid of pandas max width\n",
    "pd.set_option('display.max_columns', None)\n",
    "pd.set_option('display.max_colwidth', None)\n",
    "\n",
    "# User defined params\n",
    "USE_LATEST_RUNS = True # use latest per agent or hand-selected run (\"top\")\n",
    "results_dir = ALL_RUNS_DIR if USE_LATEST_RUNS else TOP_RUNS_DIR\n",
    "\n",
    "# Get runs for each agent\n",
    "result_filenames = {}\n",
    "for agent in AGENT_LIST:\n",
    "    # Get all runs for agent\n",
    "    runs = [x for x in os.listdir(results_dir) if x.startswith(agent)]\n",
    "    latest_run = sorted(runs, key=lambda x: os.path.getmtime(os.path.join(results_dir, x)))[-1]\n",
    "    result_filenames[agent] = latest_run\n",
    "print(result_filenames)\n",
    "\n",
    "# Compile results\n",
    "agg_results = {}\n",
    "df = pd.DataFrame()\n",
    "for agent, result_filename in result_filenames.items():\n",
    "    # Load results\n",
    "    with open(f\"{results_dir}/{result_filename}\", \"r\") as file:\n",
    "        results = json.load(file)\n",
    "\n",
    "    # Append dict to df\n",
    "    new_row = pd.DataFrame({k: v[\"distance\"] for k, v in results.items()}, index=[agent])\n",
    "    if len(df) == 0:\n",
    "        df = new_row\n",
    "    else:\n",
    "        df = pd.concat([df, new_row])\n",
    "\n",
    "display(df)"
   ]
  },
  {
   "cell_type": "code",
   "execution_count": null,
   "metadata": {},
   "outputs": [],
   "source": [
    "## Calculate various metrics/features\n",
    "# Get mean, min distance\n",
    "t1_cols = [col for col in df.columns if int(col) <= 110]\n",
    "t2_cols = [col for col in df.columns if int(col) >= 200]\n",
    "df[\"mean\"] = df[t1_cols + t2_cols].mean(axis=1)\n",
    "df[\"mean_t1\"] = df[t1_cols].mean(axis=1)\n",
    "df[\"mean_t2\"] = df[t2_cols].mean(axis=1)\n",
    "df[\"min\"] = df[t1_cols + t2_cols].min(axis=1)\n",
    "df = df[sorted(df.columns)]\n",
    "display(df)\n",
    "\n",
    "# Get score (by tier)\n",
    "df[\"total_score\"] = 0\n",
    "df[\"total_score_t1\"] = 0\n",
    "df[\"total_score_t2\"] = 0\n",
    "for index, row in df.iterrows():\n",
    "    for col in df.columns:\n",
    "        if col[0] in [\"1\", \"2\"]:\n",
    "            score = geoguessr_score(df.at[index, col])\n",
    "            df.at[index, \"total_score\"] += score\n",
    "            if int(col) <= 110:\n",
    "                df.at[index, \"total_score_t1\"] += score\n",
    "            elif int(col) > 110:\n",
    "                df.at[index, \"total_score_t2\"] += score\n",
    "\n",
    "# Calculate normalized scores by the number of non-NA records for each score column\n",
    "score_columns = ['total_score', 'total_score_t1', 'total_score_t2']\n",
    "for index, row in df.iterrows():\n",
    "    non_na_t1 = df.loc[index, '101':'110'].count()\n",
    "    non_na_t2 = df.loc[index, '201':'210'].count()\n",
    "    \n",
    "    df.at[index, 'normalized_total_score_t1'] = df.at[index, 'total_score_t1'] / non_na_t1 if non_na_t1 > 0 else 0\n",
    "    df.at[index, 'normalized_total_score_t2'] = df.at[index, 'total_score_t2'] / non_na_t2 if non_na_t2 > 0 else 0\n",
    "    df.at[index, 'normalized_total_score'] = df.at[index, 'total_score'] / (non_na_t1 + non_na_t2) if (non_na_t1 + non_na_t2) > 0 else 0\n"
   ]
  },
  {
   "cell_type": "markdown",
   "metadata": {},
   "source": [
    "## Metrics"
   ]
  },
  {
   "cell_type": "markdown",
   "metadata": {},
   "source": [
    "## Plot Points"
   ]
  },
  {
   "cell_type": "code",
   "execution_count": null,
   "metadata": {},
   "outputs": [],
   "source": [
    "# Plot score columns for each agent type using a bar chart\n",
    "plt.figure(figsize=(10, 5))\n",
    "score_columns = ['total_score', 'total_score_t1', 'total_score_t2']\n",
    "width = 0.25  # width of the bars\n",
    "\n",
    "# Create bar positions\n",
    "x = np.arange(len(df.index))\n",
    "for i, score in enumerate(score_columns):\n",
    "    plt.bar(x + i * width, df[score], width=width, label=score)\n",
    "\n",
    "plt.xlabel('Agent Type')\n",
    "plt.ylabel('Score')\n",
    "plt.title('Scores by Agent Type')\n",
    "plt.legend()\n",
    "plt.xticks(x + width, df.index, rotation=45)\n",
    "plt.tight_layout()\n",
    "plt.show()\n"
   ]
  },
  {
   "cell_type": "code",
   "execution_count": null,
   "metadata": {},
   "outputs": [],
   "source": [
    "# Plot normalized score columns for each agent type using a bar chart\n",
    "plt.figure(figsize=(10, 5))\n",
    "score_columns = ['normalized_total_score', 'normalized_total_score_t1', 'normalized_total_score_t2']\n",
    "width = 0.25  # width of the bars\n",
    "\n",
    "# Create bar positions\n",
    "x = np.arange(len(df.index))\n",
    "for i, score in enumerate(score_columns):\n",
    "    plt.bar(x + i * width, df[score], width=width, label=score)\n",
    "\n",
    "plt.xlabel('Agent Type')\n",
    "plt.ylabel('Normalized Score')\n",
    "plt.title('Normalized Scores by Agent Type (ignoring NAs)')\n",
    "plt.legend(loc='lower right')\n",
    "plt.xticks(x + width, df.index, rotation=45)\n",
    "plt.tight_layout()\n",
    "plt.show()\n"
   ]
  },
  {
   "cell_type": "markdown",
   "metadata": {},
   "source": [
    "### Average Distance (excluding NANs)"
   ]
  },
  {
   "cell_type": "code",
   "execution_count": null,
   "metadata": {},
   "outputs": [],
   "source": [
    "# Plot normalized score columns for each agent type using a bar chart\n",
    "plt.figure(figsize=(10, 5))\n",
    "score_columns = ['mean', 'mean_t1', 'mean_t2']\n",
    "width = 0.25  # width of the bars\n",
    "\n",
    "# Create bar positions\n",
    "x = np.arange(len(df.index))\n",
    "for i, score in enumerate(score_columns):\n",
    "    plt.bar(x + i * width, df[score], width=width, label=score)\n",
    "\n",
    "plt.xlabel('Agent Type')\n",
    "plt.ylabel('Mean Distance')\n",
    "plt.title('Mean Distance by Agent Type (ignoring NAs)')\n",
    "plt.legend(loc='upper right')\n",
    "plt.xticks(x + width, df.index, rotation=45)\n",
    "plt.tight_layout()\n",
    "plt.show()\n"
   ]
  },
  {
   "cell_type": "code",
   "execution_count": null,
   "metadata": {},
   "outputs": [],
   "source": [
    "# Plot a bar chart of the mean column\n",
    "plt.figure(figsize=(10, 4))\n",
    "plt.bar(df.index, df['mean'], color='skyblue')\n",
    "plt.xlabel('Solution Type')\n",
    "plt.ylabel('Mean Distance (in km)')\n",
    "plt.title('Mean Distance (in km) by Agent Type')\n",
    "plt.xticks(rotation=45)\n",
    "plt.show()"
   ]
  },
  {
   "cell_type": "markdown",
   "metadata": {},
   "source": [
    "### Error Plots by Agent Type"
   ]
  },
  {
   "cell_type": "markdown",
   "metadata": {},
   "source": [
    "#### 100 Level"
   ]
  },
  {
   "cell_type": "code",
   "execution_count": null,
   "metadata": {},
   "outputs": [],
   "source": [
    "# Plotting values for each index for specified columns with multi-bar chart\n",
    "plt.figure(figsize=(10, 5))\n",
    "index_labels = df.index\n",
    "bar_width = 0.2\n",
    "x = np.arange(len(t1_cols))\n",
    "\n",
    "for i, index_label in enumerate(index_labels):\n",
    "    values = df.loc[index_label, t1_cols].fillna(-99)  # Replace NA values with -99\n",
    "    plt.bar(x + i * bar_width, values, bar_width, label=index_label)\n",
    "\n",
    "plt.xlabel('Location ID')\n",
    "plt.ylabel('Error Distance (km)')\n",
    "plt.title('Error Distance for 100-Level Locations by Agent Type')\n",
    "plt.xticks(x + bar_width * (len(index_labels) - 1) / 2, t1_cols)\n",
    "plt.xticks(rotation=45)\n",
    "plt.ylim(-100, 1000)\n",
    "plt.legend()\n",
    "plt.show()\n"
   ]
  },
  {
   "cell_type": "code",
   "execution_count": null,
   "metadata": {},
   "outputs": [],
   "source": [
    "# Plotting values for each index for specified columns with multi-bar chart\n",
    "plt.figure(figsize=(10, 5))\n",
    "index_labels = df.index\n",
    "bar_width = 0.2\n",
    "x = np.arange(len(t2_cols))\n",
    "\n",
    "for i, index_label in enumerate(index_labels):\n",
    "    values = df.loc[index_label, t2_cols].fillna(-999)  # Replace NA values with -99\n",
    "    plt.bar(x + i * bar_width, values, bar_width, label=index_label)\n",
    "\n",
    "plt.xlabel('Location ID')\n",
    "plt.ylabel('Error Distance (km)')\n",
    "plt.title('Error Distance for 200-Level Locations by Agent Type')\n",
    "plt.xticks(x + bar_width * (len(index_labels) - 1) / 2, t2_cols)\n",
    "plt.xticks(rotation=45)\n",
    "plt.ylim(-1000, 10000)\n",
    "plt.legend()\n",
    "plt.show()"
   ]
  },
  {
   "cell_type": "code",
   "execution_count": null,
   "metadata": {},
   "outputs": [],
   "source": [
    "# Calculate the percentage of NA values for each index in the DataFrame and plot as a bar chart\n",
    "# Splitting the NA count by total NA rate, NA rate for t1_cols and t2_cols\n",
    "\n",
    "na_percentage_total = round(df[t1_cols + t2_cols].isna().mean(axis=1) * 100, 2)\n",
    "na_percentage_t1 = round(df[t1_cols].isna().mean(axis=1) * 100, 2)\n",
    "na_percentage_t2 = round(df[t2_cols].isna().mean(axis=1) * 100, 2)\n",
    "\n",
    "plt.figure(figsize=(15, 6))\n",
    "x = np.arange(len(df.index))\n",
    "width = 0.25  # width of the bars\n",
    "\n",
    "plt.bar(x, na_percentage_total, color='red', width=width, label='Total NA Rate')\n",
    "plt.bar(x + width, na_percentage_t1, color='blue', width=width, label='T1 NA Rate')\n",
    "plt.bar(x + 2 * width, na_percentage_t2, color='green', width=width, label='T2 NA Rate')\n",
    "\n",
    "plt.xlabel('Agent Type')\n",
    "plt.ylabel('Rate of NA Values (%)')\n",
    "plt.title('Rate of NA Values by Agent Type and Location Tier')\n",
    "plt.xticks(x + width, df.index, rotation=45)\n",
    "plt.legend()\n",
    "plt.show()\n"
   ]
  },
  {
   "cell_type": "markdown",
   "metadata": {},
   "source": []
  },
  {
   "cell_type": "code",
   "execution_count": null,
   "metadata": {},
   "outputs": [],
   "source": []
  }
 ],
 "metadata": {
  "kernelspec": {
   "display_name": "geo",
   "language": "python",
   "name": "python3"
  },
  "language_info": {
   "codemirror_mode": {
    "name": "ipython",
    "version": 3
   },
   "file_extension": ".py",
   "mimetype": "text/x-python",
   "name": "python",
   "nbconvert_exporter": "python",
   "pygments_lexer": "ipython3",
   "version": "3.12.0"
  }
 },
 "nbformat": 4,
 "nbformat_minor": 2
}

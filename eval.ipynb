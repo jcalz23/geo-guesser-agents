{
 "cells": [
  {
   "cell_type": "code",
   "execution_count": 2,
   "metadata": {},
   "outputs": [
    {
     "name": "stdout",
     "output_type": "stream",
     "text": [
      "Distance: 1315.51 km\n"
     ]
    }
   ],
   "source": [
    "import math\n",
    "\n",
    "def calculate_distance(coord1, coord2):\n",
    "    \"\"\"\n",
    "    Calculate the distance between two latitude and longitude coordinates using the Haversine formula.\n",
    "    \n",
    "    Args:\n",
    "    coord1 (dict): A dictionary containing 'latitude' and 'longitude' for the first coordinate.\n",
    "    coord2 (dict): A dictionary containing 'latitude' and 'longitude' for the second coordinate.\n",
    "    \n",
    "    Returns:\n",
    "    float: The distance in kilometers between the two coordinates.\n",
    "    \"\"\"\n",
    "    # Radius of the Earth in kilometers\n",
    "    R = 6371.0\n",
    "    \n",
    "    # Convert latitude and longitude from degrees to radians\n",
    "    lat1, lon1 = math.radians(float(coord1['latitude'])), math.radians(float(coord1['longitude']))\n",
    "    lat2, lon2 = math.radians(float(coord2['latitude'])), math.radians(float(coord2['longitude']))\n",
    "    \n",
    "    # Difference in coordinates\n",
    "    dlat = lat2 - lat1\n",
    "    dlon = lon2 - lon1\n",
    "    \n",
    "    # Haversine formula\n",
    "    a = math.sin(dlat / 2)**2 + math.cos(lat1) * math.cos(lat2) * math.sin(dlon / 2)**2\n",
    "    c = 2 * math.atan2(math.sqrt(a), math.sqrt(1 - a))\n",
    "    \n",
    "    distance = round(R * c, 2)\n",
    "    return distance\n",
    "\n",
    "# Test examples\n",
    "coord1 = {'latitude': 52.2296756, 'longitude': 21.0122287}\n",
    "coord2 = {'latitude': 41.8919300, 'longitude': 12.5113300}\n",
    "\n",
    "print(\"Distance:\", calculate_distance(coord1, coord2), \"km\")\n"
   ]
  },
  {
   "cell_type": "code",
   "execution_count": null,
   "metadata": {},
   "outputs": [],
   "source": []
  }
 ],
 "metadata": {
  "language_info": {
   "name": "python"
  }
 },
 "nbformat": 4,
 "nbformat_minor": 2
}
